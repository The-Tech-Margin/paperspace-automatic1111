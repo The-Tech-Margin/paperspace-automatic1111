{
 "cells": [
  {
   "cell_type": "markdown",
   "id": "6441563f-5e6b-4987-abe3-2a1b8c25a789",
   "metadata": {},
   "source": [
    "## A1111 Paperspace Notebook From https://github.com/TheLastBen/fast-stable-diffusion, if you encounter any issues, feel free to discuss them."
   ]
  },
  {
   "cell_type": "markdown",
   "id": "840f2f6a-41d1-4938-a846-d51f76682b76",
   "metadata": {},
   "source": [
    "# Dependencies"
   ]
  },
  {
   "cell_type": "code",
   "execution_count": 1,
   "id": "62e22de7-f054-45a7-b7e3-b63b9a0188a1",
   "metadata": {
    "execution": {
     "iopub.execute_input": "2024-07-29T15:14:50.076024Z",
     "iopub.status.busy": "2024-07-29T15:14:50.075014Z",
     "iopub.status.idle": "2024-07-29T15:17:33.710281Z",
     "shell.execute_reply": "2024-07-29T15:17:33.707118Z",
     "shell.execute_reply.started": "2024-07-29T15:14:50.075975Z"
    }
   },
   "outputs": [
    {
     "data": {
      "application/vnd.jupyter.widget-view+json": {
       "model_id": "088a52e5c7e2445e9c3058b8084d6f41",
       "version_major": 2,
       "version_minor": 0
      },
      "text/plain": [
       "Button(button_style='success', description='Done!', disabled=True, icon='check', style=ButtonStyle(), tooltip=…"
      ]
     },
     "metadata": {},
     "output_type": "display_data"
    }
   ],
   "source": [
    "# Install the dependencies\n",
    "\n",
    "force_reinstall= False\n",
    "\n",
    "# Set to true only if you want to install the dependencies again.\n",
    "\n",
    "#--------------------\n",
    "with open('/dev/null', 'w') as devnull:import requests, os, importlib;sc=\"mainpaperspaceA1111.py\" if os.path.exists('/usr/local/lib/python3.9') else \"mainpaperspaceA1111_311.py\";open('/notebooks/mainpaperspaceA1111.py', 'wb').write(requests.get('https://huggingface.co/datasets/TheLastBen/PPS/raw/main/Scripts/'+sc).content);os.chdir('/notebooks');import mainpaperspaceA1111;importlib.reload(mainpaperspaceA1111);from mainpaperspaceA1111 import *;Deps(force_reinstall)"
   ]
  },
  {
   "cell_type": "markdown",
   "id": "e21f3583-2d0f-4218-9da2-303f9e202820",
   "metadata": {
    "tags": []
   },
   "source": [
    "# Install/Update AUTOMATIC1111 repo"
   ]
  },
  {
   "cell_type": "code",
   "execution_count": 2,
   "id": "ed6cebed-8a4f-4a35-b5c3-36126be008b9",
   "metadata": {
    "execution": {
     "iopub.execute_input": "2024-07-29T15:17:33.713499Z",
     "iopub.status.busy": "2024-07-29T15:17:33.712813Z",
     "iopub.status.idle": "2024-07-29T15:17:41.748952Z",
     "shell.execute_reply": "2024-07-29T15:17:41.746699Z",
     "shell.execute_reply.started": "2024-07-29T15:17:33.713454Z"
    }
   },
   "outputs": [
    {
     "data": {
      "application/vnd.jupyter.widget-view+json": {
       "model_id": "ae2b401385184f098265e82da2c1bb0e",
       "version_major": 2,
       "version_minor": 0
      },
      "text/plain": [
       "Button(button_style='success', description='Done!', disabled=True, icon='check', style=ButtonStyle(), tooltip=…"
      ]
     },
     "metadata": {},
     "output_type": "display_data"
    }
   ],
   "source": [
    "# Don't skip this cell to make sure the repo is up to date and functioning correctly\n",
    "\n",
    "#--------------------\n",
    "repo()"
   ]
  },
  {
   "cell_type": "markdown",
   "id": "ab0521c7-8c68-4ea2-915a-bc3f4b67f6e7",
   "metadata": {},
   "source": [
    "# Model Download/Load"
   ]
  },
  {
   "cell_type": "code",
   "execution_count": 3,
   "id": "a6f367e0-df08-41fd-91b5-e2afbcbd42e4",
   "metadata": {
    "execution": {
     "iopub.execute_input": "2024-07-29T15:17:41.751353Z",
     "iopub.status.busy": "2024-07-29T15:17:41.750860Z",
     "iopub.status.idle": "2024-07-29T15:17:42.200590Z",
     "shell.execute_reply": "2024-07-29T15:17:42.198561Z",
     "shell.execute_reply.started": "2024-07-29T15:17:41.751353Z"
    }
   },
   "outputs": [
    {
     "name": "stdout",
     "output_type": "stream",
     "text": [
      "\u001b[1;32mUsing the original SDXL model\n"
     ]
    }
   ],
   "source": [
    "Original_Model_Version = \"SDXL\"\n",
    "\n",
    "# Choices are \"SDXL\", \"v1.5\", \"v2-512\", \"v2-768\"\n",
    "\n",
    "\n",
    "Path_to_MODEL = \"\"\n",
    "\n",
    "# Insert the full path of your trained model or to a folder containing multiple models.\n",
    "\n",
    "\n",
    "MODEL_LINK = \"\"\n",
    "\n",
    "# A direct link to a Model or a shared gdrive link.\n",
    "\n",
    "\n",
    "Temporary_Storage = False\n",
    "\n",
    "# Download the model to a temporary storage, bigger capacity but will be removed at session shutdown.\n",
    "\n",
    "\n",
    "#--------------------\n",
    "model=mdls(Original_Model_Version, Path_to_MODEL, MODEL_LINK, Temporary_Storage)"
   ]
  },
  {
   "cell_type": "markdown",
   "id": "3dea93ee",
   "metadata": {},
   "source": [
    "# LoRA Download"
   ]
  },
  {
   "cell_type": "code",
   "execution_count": 4,
   "id": "594ab2fa",
   "metadata": {
    "execution": {
     "iopub.execute_input": "2024-07-29T15:17:42.205281Z",
     "iopub.status.busy": "2024-07-29T15:17:42.204765Z",
     "iopub.status.idle": "2024-07-29T15:17:42.213687Z",
     "shell.execute_reply": "2024-07-29T15:17:42.211783Z",
     "shell.execute_reply.started": "2024-07-29T15:17:42.205237Z"
    }
   },
   "outputs": [
    {
     "name": "stdout",
     "output_type": "stream",
     "text": [
      "\u001b[1;33mNothing to do\n"
     ]
    }
   ],
   "source": [
    "LoRA_LINK = \"\"\n",
    "\n",
    "# Downlad the LoRA model directly to A1111 LoRA folder\n",
    "\n",
    "#--------------------\n",
    "loradwn(LoRA_LINK)"
   ]
  },
  {
   "cell_type": "markdown",
   "id": "2f9228f8-3d2b-4964-a848-f75ae1618d9f",
   "metadata": {},
   "source": [
    "# ControlNet"
   ]
  },
  {
   "cell_type": "code",
   "execution_count": 10,
   "id": "90c5d7c8-d0dc-43dc-9232-1351e8f80b5e",
   "metadata": {
    "execution": {
     "iopub.execute_input": "2024-07-29T15:34:59.050079Z",
     "iopub.status.busy": "2024-07-29T15:34:59.049542Z",
     "iopub.status.idle": "2024-07-29T15:40:21.696482Z",
     "shell.execute_reply": "2024-07-29T15:40:21.694661Z",
     "shell.execute_reply.started": "2024-07-29T15:34:59.050079Z"
    }
   },
   "outputs": [
    {
     "data": {
      "application/vnd.jupyter.widget-view+json": {
       "model_id": "ecc019d6ebc043349098cca7524c74c0",
       "version_major": 2,
       "version_minor": 0
      },
      "text/plain": [
       "Button(button_style='success', description='Done!', disabled=True, icon='check', style=ButtonStyle(), tooltip=…"
      ]
     },
     "metadata": {},
     "output_type": "display_data"
    }
   ],
   "source": [
    "# Download/update ControlNet extension and its models.\n",
    "\n",
    "ControlNet_v1_Model = \"all\"\n",
    "\n",
    "# Choices are : none; all; 1: Canny; 2: Depth; 3: Lineart; 4: MLSD; 5: Normal; 6: OpenPose; 7: Scribble; 8: Seg; 9: ip2p; 10:Shuffle; 11: Inpaint; 12: Softedge; 13: Lineart_Anime; 14: Tile; 15: T2iadapter_Models\n",
    "\n",
    "ControlNet_XL_Model = \"all\"\n",
    "\n",
    "# Choices are : none; all; 1: Canny; 2: Depth; 3: Sketch; 4: OpenPose; 5: Recolor\n",
    "\n",
    "#--------------------\n",
    "CN(ControlNet_v1_Model, ControlNet_XL_Model)"
   ]
  },
  {
   "cell_type": "markdown",
   "id": "e0baf0c4-a410-432f-891b-975c7250c77d",
   "metadata": {},
   "source": [
    "# Start Stable-Diffusion"
   ]
  },
  {
   "cell_type": "markdown",
   "id": "078cba4e-d117-4333-9fa0-dbe262ae13c7",
   "metadata": {
    "execution": {
     "iopub.execute_input": "2024-07-29T16:04:28.982212Z",
     "iopub.status.busy": "2024-07-29T16:04:28.981553Z"
    }
   },
   "source": [
    "User = \"\"\n",
    "\n",
    "Password= \"\"\n",
    "\n",
    "# Add credentials to your Gradio interface (optional).\n",
    "\n",
    "\n",
    "#-----------------\n",
    "configf=sdui(User, Password, model) if 'model' in locals() else sdui(User, Password, \"\")\n",
    "!python /notebooks/sd/stable-diffusion-webui/webui.py $configf"
   ]
  }
 ],
 "metadata": {
  "kernelspec": {
   "display_name": "Python 3 (ipykernel)",
   "language": "python",
   "name": "python3"
  },
  "language_info": {
   "codemirror_mode": {
    "name": "ipython",
    "version": 3
   },
   "file_extension": ".py",
   "mimetype": "text/x-python",
   "name": "python",
   "nbconvert_exporter": "python",
   "pygments_lexer": "ipython3",
   "version": "3.11.7"
  },
  "widgets": {
   "application/vnd.jupyter.widget-state+json": {
    "state": {},
    "version_major": 2,
    "version_minor": 0
   }
  }
 },
 "nbformat": 4,
 "nbformat_minor": 5
}
